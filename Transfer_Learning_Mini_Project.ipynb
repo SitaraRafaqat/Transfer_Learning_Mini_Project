{
  "nbformat": 4,
  "nbformat_minor": 0,
  "metadata": {
    "colab": {
      "provenance": []
    },
    "kernelspec": {
      "name": "python3",
      "display_name": "Python 3"
    },
    "language_info": {
      "name": "python"
    }
  },
  "cells": [
    {
      "cell_type": "code",
      "execution_count": 1,
      "metadata": {
        "id": "lHZcpA6kujev"
      },
      "outputs": [],
      "source": [
        "#Importing Libraries\n",
        "import numpy as np\n",
        "import matplotlib.pyplot as plt\n",
        "import tensorflow as tf\n",
        "from tensorflow.keras.applications import ResNet50, MobileNetV2\n",
        "from tensorflow.keras.applications.resnet50 import preprocess_input\n",
        "from tensorflow.keras.preprocessing.image import ImageDataGenerator\n",
        "from tensorflow.keras.layers import GlobalAveragePooling2D, Dense, Dropout\n",
        "from tensorflow.keras.models import Model\n",
        "from tensorflow.keras.callbacks import EarlyStopping, ReduceLROnPlateau\n",
        "from tensorflow.keras.utils import to_categorical\n",
        "from tensorflow.keras.datasets import cifar10\n"
      ]
    },
    {
      "cell_type": "markdown",
      "source": [
        "# **Load & Preprocess CIFAR-10**"
      ],
      "metadata": {
        "id": "B2h7TuXtu_ax"
      }
    },
    {
      "cell_type": "code",
      "source": [
        "# Load CIFAR-10 data\n",
        "(x_train, y_train), (x_test, y_test) = cifar10.load_data()\n",
        "\n",
        "# Resize to 32 to match ResNet50 input size\n",
        "IMG_SIZE = 32\n",
        "x_train_resized = tf.image.resize(x_train, (IMG_SIZE, IMG_SIZE)).numpy()\n",
        "x_test_resized = tf.image.resize(x_test, (IMG_SIZE, IMG_SIZE)).numpy()\n",
        "\n",
        "# Preprocess images for ResNet\n",
        "x_train_resnet = preprocess_input(x_train_resized)\n",
        "x_test_resnet = preprocess_input(x_test_resized)\n",
        "\n",
        "# One-hot encode labels\n",
        "y_train_cat = to_categorical(y_train, 10)\n",
        "y_test_cat = to_categorical(y_test, 10)"
      ],
      "metadata": {
        "id": "8GSlclTzu5N6",
        "colab": {
          "base_uri": "https://localhost:8080/"
        },
        "outputId": "a6ff71fb-73d3-4f71-fd17-7f0bb4e967b2"
      },
      "execution_count": 2,
      "outputs": [
        {
          "output_type": "stream",
          "name": "stdout",
          "text": [
            "Downloading data from https://www.cs.toronto.edu/~kriz/cifar-10-python.tar.gz\n",
            "\u001b[1m170498071/170498071\u001b[0m \u001b[32m━━━━━━━━━━━━━━━━━━━━\u001b[0m\u001b[37m\u001b[0m \u001b[1m11s\u001b[0m 0us/step\n"
          ]
        }
      ]
    },
    {
      "cell_type": "markdown",
      "source": [
        "# **Load Pretrained ResNet50 & Add Custom Head**"
      ],
      "metadata": {
        "id": "s6jODKcrwJSL"
      }
    },
    {
      "cell_type": "code",
      "source": [
        "# Load base model without top layer\n",
        "base_model = ResNet50(weights='imagenet', include_top=False, input_shape=(IMG_SIZE, IMG_SIZE, 3))\n",
        "base_model.trainable = False  # freeze base\n",
        "\n",
        "# Add custom head\n",
        "x = base_model.output\n",
        "x = GlobalAveragePooling2D()(x)\n",
        "x = Dropout(0.5)(x)\n",
        "x = Dense(128, activation='relu')(x)\n",
        "predictions = Dense(10, activation='softmax')(x)\n",
        "\n",
        "model = Model(inputs=base_model.input, outputs=predictions)\n"
      ],
      "metadata": {
        "colab": {
          "base_uri": "https://localhost:8080/"
        },
        "id": "nQP92PBfwh1N",
        "outputId": "7d9f1dbd-7366-4cf1-a337-95439d0a9834"
      },
      "execution_count": 3,
      "outputs": [
        {
          "output_type": "stream",
          "name": "stdout",
          "text": [
            "Downloading data from https://storage.googleapis.com/tensorflow/keras-applications/resnet/resnet50_weights_tf_dim_ordering_tf_kernels_notop.h5\n",
            "\u001b[1m94765736/94765736\u001b[0m \u001b[32m━━━━━━━━━━━━━━━━━━━━\u001b[0m\u001b[37m\u001b[0m \u001b[1m4s\u001b[0m 0us/step\n"
          ]
        }
      ]
    },
    {
      "cell_type": "markdown",
      "source": [
        "# **Compile and Train**"
      ],
      "metadata": {
        "id": "S4l3Y60Fwv0f"
      }
    },
    {
      "cell_type": "code",
      "source": [
        "model.compile(optimizer='adam', loss='categorical_crossentropy', metrics=['accuracy'])\n",
        "\n",
        "# Callbacks\n",
        "early_stop = EarlyStopping(patience=5, restore_best_weights=True)\n",
        "reduce_lr = ReduceLROnPlateau(patience=3, factor=0.2, verbose=1)\n",
        "\n",
        "# Train\n",
        "history = model.fit(x_train_resnet, y_train_cat,\n",
        "                    epochs=20,\n",
        "                    batch_size=32,\n",
        "                    validation_split=0.2,\n",
        "                    callbacks=[early_stop, reduce_lr])\n"
      ],
      "metadata": {
        "colab": {
          "base_uri": "https://localhost:8080/"
        },
        "id": "-4IMllepwyu2",
        "outputId": "cf3f724a-937e-4850-ef21-4c21d1f716d4"
      },
      "execution_count": 4,
      "outputs": [
        {
          "output_type": "stream",
          "name": "stdout",
          "text": [
            "Epoch 1/20\n",
            "\u001b[1m1250/1250\u001b[0m \u001b[32m━━━━━━━━━━━━━━━━━━━━\u001b[0m\u001b[37m\u001b[0m \u001b[1m238s\u001b[0m 183ms/step - accuracy: 0.4585 - loss: 1.8732 - val_accuracy: 0.6092 - val_loss: 1.0960 - learning_rate: 0.0010\n",
            "Epoch 2/20\n",
            "\u001b[1m1250/1250\u001b[0m \u001b[32m━━━━━━━━━━━━━━━━━━━━\u001b[0m\u001b[37m\u001b[0m \u001b[1m295s\u001b[0m 209ms/step - accuracy: 0.5894 - loss: 1.1610 - val_accuracy: 0.6325 - val_loss: 1.0512 - learning_rate: 0.0010\n",
            "Epoch 3/20\n",
            "\u001b[1m1250/1250\u001b[0m \u001b[32m━━━━━━━━━━━━━━━━━━━━\u001b[0m\u001b[37m\u001b[0m \u001b[1m261s\u001b[0m 208ms/step - accuracy: 0.6159 - loss: 1.0841 - val_accuracy: 0.6368 - val_loss: 1.0261 - learning_rate: 0.0010\n",
            "Epoch 4/20\n",
            "\u001b[1m1250/1250\u001b[0m \u001b[32m━━━━━━━━━━━━━━━━━━━━\u001b[0m\u001b[37m\u001b[0m \u001b[1m261s\u001b[0m 208ms/step - accuracy: 0.6220 - loss: 1.0577 - val_accuracy: 0.6394 - val_loss: 1.0220 - learning_rate: 0.0010\n",
            "Epoch 5/20\n",
            "\u001b[1m1250/1250\u001b[0m \u001b[32m━━━━━━━━━━━━━━━━━━━━\u001b[0m\u001b[37m\u001b[0m \u001b[1m262s\u001b[0m 208ms/step - accuracy: 0.6330 - loss: 1.0299 - val_accuracy: 0.6515 - val_loss: 1.0017 - learning_rate: 0.0010\n",
            "Epoch 6/20\n",
            "\u001b[1m1250/1250\u001b[0m \u001b[32m━━━━━━━━━━━━━━━━━━━━\u001b[0m\u001b[37m\u001b[0m \u001b[1m261s\u001b[0m 209ms/step - accuracy: 0.6449 - loss: 1.0136 - val_accuracy: 0.6527 - val_loss: 0.9957 - learning_rate: 0.0010\n",
            "Epoch 7/20\n",
            "\u001b[1m1250/1250\u001b[0m \u001b[32m━━━━━━━━━━━━━━━━━━━━\u001b[0m\u001b[37m\u001b[0m \u001b[1m258s\u001b[0m 206ms/step - accuracy: 0.6529 - loss: 0.9809 - val_accuracy: 0.6519 - val_loss: 0.9932 - learning_rate: 0.0010\n",
            "Epoch 8/20\n",
            "\u001b[1m1250/1250\u001b[0m \u001b[32m━━━━━━━━━━━━━━━━━━━━\u001b[0m\u001b[37m\u001b[0m \u001b[1m262s\u001b[0m 206ms/step - accuracy: 0.6502 - loss: 0.9892 - val_accuracy: 0.6535 - val_loss: 1.0011 - learning_rate: 0.0010\n",
            "Epoch 9/20\n",
            "\u001b[1m1250/1250\u001b[0m \u001b[32m━━━━━━━━━━━━━━━━━━━━\u001b[0m\u001b[37m\u001b[0m \u001b[1m263s\u001b[0m 207ms/step - accuracy: 0.6574 - loss: 0.9656 - val_accuracy: 0.6582 - val_loss: 0.9916 - learning_rate: 0.0010\n",
            "Epoch 10/20\n",
            "\u001b[1m1250/1250\u001b[0m \u001b[32m━━━━━━━━━━━━━━━━━━━━\u001b[0m\u001b[37m\u001b[0m \u001b[1m261s\u001b[0m 206ms/step - accuracy: 0.6666 - loss: 0.9313 - val_accuracy: 0.6557 - val_loss: 0.9778 - learning_rate: 0.0010\n",
            "Epoch 11/20\n",
            "\u001b[1m1250/1250\u001b[0m \u001b[32m━━━━━━━━━━━━━━━━━━━━\u001b[0m\u001b[37m\u001b[0m \u001b[1m262s\u001b[0m 207ms/step - accuracy: 0.6725 - loss: 0.9382 - val_accuracy: 0.6547 - val_loss: 0.9920 - learning_rate: 0.0010\n",
            "Epoch 12/20\n",
            "\u001b[1m1250/1250\u001b[0m \u001b[32m━━━━━━━━━━━━━━━━━━━━\u001b[0m\u001b[37m\u001b[0m \u001b[1m261s\u001b[0m 206ms/step - accuracy: 0.6774 - loss: 0.9208 - val_accuracy: 0.6452 - val_loss: 0.9974 - learning_rate: 0.0010\n",
            "Epoch 13/20\n",
            "\u001b[1m1250/1250\u001b[0m \u001b[32m━━━━━━━━━━━━━━━━━━━━\u001b[0m\u001b[37m\u001b[0m \u001b[1m0s\u001b[0m 141ms/step - accuracy: 0.6780 - loss: 0.9100\n",
            "Epoch 13: ReduceLROnPlateau reducing learning rate to 0.00020000000949949026.\n",
            "\u001b[1m1250/1250\u001b[0m \u001b[32m━━━━━━━━━━━━━━━━━━━━\u001b[0m\u001b[37m\u001b[0m \u001b[1m263s\u001b[0m 207ms/step - accuracy: 0.6780 - loss: 0.9100 - val_accuracy: 0.6560 - val_loss: 0.9914 - learning_rate: 0.0010\n",
            "Epoch 14/20\n",
            "\u001b[1m1250/1250\u001b[0m \u001b[32m━━━━━━━━━━━━━━━━━━━━\u001b[0m\u001b[37m\u001b[0m \u001b[1m259s\u001b[0m 205ms/step - accuracy: 0.6967 - loss: 0.8630 - val_accuracy: 0.6696 - val_loss: 0.9518 - learning_rate: 2.0000e-04\n",
            "Epoch 15/20\n",
            "\u001b[1m1250/1250\u001b[0m \u001b[32m━━━━━━━━━━━━━━━━━━━━\u001b[0m\u001b[37m\u001b[0m \u001b[1m223s\u001b[0m 174ms/step - accuracy: 0.7046 - loss: 0.8329 - val_accuracy: 0.6702 - val_loss: 0.9509 - learning_rate: 2.0000e-04\n",
            "Epoch 16/20\n",
            "\u001b[1m1250/1250\u001b[0m \u001b[32m━━━━━━━━━━━━━━━━━━━━\u001b[0m\u001b[37m\u001b[0m \u001b[1m301s\u001b[0m 205ms/step - accuracy: 0.7105 - loss: 0.8238 - val_accuracy: 0.6738 - val_loss: 0.9505 - learning_rate: 2.0000e-04\n",
            "Epoch 17/20\n",
            "\u001b[1m1250/1250\u001b[0m \u001b[32m━━━━━━━━━━━━━━━━━━━━\u001b[0m\u001b[37m\u001b[0m \u001b[1m264s\u001b[0m 207ms/step - accuracy: 0.7091 - loss: 0.8168 - val_accuracy: 0.6733 - val_loss: 0.9488 - learning_rate: 2.0000e-04\n",
            "Epoch 18/20\n",
            "\u001b[1m1250/1250\u001b[0m \u001b[32m━━━━━━━━━━━━━━━━━━━━\u001b[0m\u001b[37m\u001b[0m \u001b[1m260s\u001b[0m 208ms/step - accuracy: 0.7175 - loss: 0.8016 - val_accuracy: 0.6733 - val_loss: 0.9481 - learning_rate: 2.0000e-04\n",
            "Epoch 19/20\n",
            "\u001b[1m1250/1250\u001b[0m \u001b[32m━━━━━━━━━━━━━━━━━━━━\u001b[0m\u001b[37m\u001b[0m \u001b[1m260s\u001b[0m 207ms/step - accuracy: 0.7176 - loss: 0.7938 - val_accuracy: 0.6767 - val_loss: 0.9482 - learning_rate: 2.0000e-04\n",
            "Epoch 20/20\n",
            "\u001b[1m1250/1250\u001b[0m \u001b[32m━━━━━━━━━━━━━━━━━━━━\u001b[0m\u001b[37m\u001b[0m \u001b[1m222s\u001b[0m 175ms/step - accuracy: 0.7170 - loss: 0.7967 - val_accuracy: 0.6723 - val_loss: 0.9464 - learning_rate: 2.0000e-04\n"
          ]
        }
      ]
    },
    {
      "cell_type": "markdown",
      "source": [
        "# **Fine-Tune Top Layers**"
      ],
      "metadata": {
        "id": "ipyWYclXAS-F"
      }
    },
    {
      "cell_type": "code",
      "source": [
        "# Unfreeze top layers\n",
        "base_model.trainable = True\n",
        "for layer in base_model.layers[:-10]:\n",
        "    layer.trainable = False\n",
        "\n",
        "# Recompile with lower learning rate\n",
        "model.compile(optimizer=tf.keras.optimizers.Adam(1e-5), loss='categorical_crossentropy', metrics=['accuracy'])\n",
        "\n",
        "# Fine-tune\n",
        "fine_tune_history = model.fit(x_train_resnet, y_train_cat,\n",
        "                              epochs=10,\n",
        "                              batch_size=32,\n",
        "                              validation_split=0.2,\n",
        "                              callbacks=[early_stop, reduce_lr])\n"
      ],
      "metadata": {
        "colab": {
          "base_uri": "https://localhost:8080/"
        },
        "id": "73gOGMsJAYfk",
        "outputId": "f12800ca-a6e6-48fb-c2da-8bd062119618"
      },
      "execution_count": 5,
      "outputs": [
        {
          "output_type": "stream",
          "name": "stdout",
          "text": [
            "Epoch 1/10\n",
            "\u001b[1m1250/1250\u001b[0m \u001b[32m━━━━━━━━━━━━━━━━━━━━\u001b[0m\u001b[37m\u001b[0m \u001b[1m605s\u001b[0m 475ms/step - accuracy: 0.7023 - loss: 0.8429 - val_accuracy: 0.6679 - val_loss: 0.9689 - learning_rate: 1.0000e-05\n",
            "Epoch 2/10\n",
            "\u001b[1m1250/1250\u001b[0m \u001b[32m━━━━━━━━━━━━━━━━━━━━\u001b[0m\u001b[37m\u001b[0m \u001b[1m620s\u001b[0m 473ms/step - accuracy: 0.7177 - loss: 0.7971 - val_accuracy: 0.6717 - val_loss: 0.9631 - learning_rate: 1.0000e-05\n",
            "Epoch 3/10\n",
            "\u001b[1m1250/1250\u001b[0m \u001b[32m━━━━━━━━━━━━━━━━━━━━\u001b[0m\u001b[37m\u001b[0m \u001b[1m620s\u001b[0m 472ms/step - accuracy: 0.7163 - loss: 0.7863 - val_accuracy: 0.6749 - val_loss: 0.9591 - learning_rate: 1.0000e-05\n",
            "Epoch 4/10\n",
            "\u001b[1m1250/1250\u001b[0m \u001b[32m━━━━━━━━━━━━━━━━━━━━\u001b[0m\u001b[37m\u001b[0m \u001b[1m623s\u001b[0m 473ms/step - accuracy: 0.7255 - loss: 0.7735 - val_accuracy: 0.6759 - val_loss: 0.9564 - learning_rate: 1.0000e-05\n",
            "Epoch 5/10\n",
            "\u001b[1m1250/1250\u001b[0m \u001b[32m━━━━━━━━━━━━━━━━━━━━\u001b[0m\u001b[37m\u001b[0m \u001b[1m632s\u001b[0m 481ms/step - accuracy: 0.7291 - loss: 0.7595 - val_accuracy: 0.6746 - val_loss: 0.9569 - learning_rate: 1.0000e-05\n",
            "Epoch 6/10\n",
            "\u001b[1m1250/1250\u001b[0m \u001b[32m━━━━━━━━━━━━━━━━━━━━\u001b[0m\u001b[37m\u001b[0m \u001b[1m624s\u001b[0m 483ms/step - accuracy: 0.7383 - loss: 0.7417 - val_accuracy: 0.6748 - val_loss: 0.9560 - learning_rate: 1.0000e-05\n",
            "Epoch 7/10\n",
            "\u001b[1m1250/1250\u001b[0m \u001b[32m━━━━━━━━━━━━━━━━━━━━\u001b[0m\u001b[37m\u001b[0m \u001b[1m602s\u001b[0m 482ms/step - accuracy: 0.7378 - loss: 0.7321 - val_accuracy: 0.6769 - val_loss: 0.9558 - learning_rate: 1.0000e-05\n",
            "Epoch 8/10\n",
            "\u001b[1m1250/1250\u001b[0m \u001b[32m━━━━━━━━━━━━━━━━━━━━\u001b[0m\u001b[37m\u001b[0m \u001b[1m598s\u001b[0m 479ms/step - accuracy: 0.7402 - loss: 0.7303 - val_accuracy: 0.6788 - val_loss: 0.9562 - learning_rate: 1.0000e-05\n",
            "Epoch 9/10\n",
            "\u001b[1m1250/1250\u001b[0m \u001b[32m━━━━━━━━━━━━━━━━━━━━\u001b[0m\u001b[37m\u001b[0m \u001b[1m618s\u001b[0m 475ms/step - accuracy: 0.7482 - loss: 0.7090 - val_accuracy: 0.6787 - val_loss: 0.9564 - learning_rate: 1.0000e-05\n",
            "Epoch 10/10\n",
            "\u001b[1m1250/1250\u001b[0m \u001b[32m━━━━━━━━━━━━━━━━━━━━\u001b[0m\u001b[37m\u001b[0m \u001b[1m0s\u001b[0m 400ms/step - accuracy: 0.7519 - loss: 0.7057\n",
            "Epoch 10: ReduceLROnPlateau reducing learning rate to 1.9999999494757505e-06.\n",
            "\u001b[1m1250/1250\u001b[0m \u001b[32m━━━━━━━━━━━━━━━━━━━━\u001b[0m\u001b[37m\u001b[0m \u001b[1m611s\u001b[0m 466ms/step - accuracy: 0.7519 - loss: 0.7057 - val_accuracy: 0.6773 - val_loss: 0.9567 - learning_rate: 1.0000e-05\n"
          ]
        }
      ]
    },
    {
      "cell_type": "markdown",
      "source": [
        "# **Evaluate & Plot**"
      ],
      "metadata": {
        "id": "J2i0c7ttdy7A"
      }
    },
    {
      "cell_type": "code",
      "source": [
        "# Evaluate on test set\n",
        "test_loss, test_acc = model.evaluate(x_test_resnet, y_test_cat)\n",
        "print(f\"Final Test Accuracy: {test_acc*100:.2f}%\")\n",
        "\n",
        "# Plot training history\n",
        "def plot_history(histories, titles):\n",
        "    for history, title in zip(histories, titles):\n",
        "        plt.plot(history.history['val_accuracy'], label=title)\n",
        "    plt.xlabel('Epochs')\n",
        "    plt.ylabel('Validation Accuracy')\n",
        "    plt.legend()\n",
        "    plt.title(\"Validation Accuracy Comparison\")\n",
        "    plt.show()\n",
        "\n",
        "plot_history([history, fine_tune_history], ['Initial Training', 'Fine-tuning'])\n"
      ],
      "metadata": {
        "colab": {
          "base_uri": "https://localhost:8080/",
          "height": 507
        },
        "id": "f05rsuBOd0VT",
        "outputId": "48970ec9-4328-4a88-acdc-e2d7b9191c72"
      },
      "execution_count": 6,
      "outputs": [
        {
          "output_type": "stream",
          "name": "stdout",
          "text": [
            "\u001b[1m313/313\u001b[0m \u001b[32m━━━━━━━━━━━━━━━━━━━━\u001b[0m\u001b[37m\u001b[0m \u001b[1m55s\u001b[0m 175ms/step - accuracy: 0.6681 - loss: 0.9701\n",
            "Final Test Accuracy: 66.85%\n"
          ]
        },
        {
          "output_type": "display_data",
          "data": {
            "text/plain": [
              "<Figure size 640x480 with 1 Axes>"
            ],
            "image/png": "[encoded data removed]"
          },
          "metadata": {}
        }
      ]
    },
    {
      "cell_type": "markdown",
      "source": [
        "### 🔍 Model Comparison Table\n",
        "\n",
        "| Feature                     | ResNet50                      | MobileNetV2                   |\n",
        "|----------------------------|-------------------------------|-------------------------------|\n",
        "| **Input Image Size**       | 224 × 224 × 3                 | 224 × 224 × 3                 |\n",
        "| **Parameters**             | ~25.6 Million                 | ~3.5 Million                  |\n",
        "| **Layers / Depth**         | 50 layers                     | ~88 layers                    |\n",
        "| **ImageNet Accuracy (Top-1)** | ~76.0%                    | ~72.0%                        |\n",
        "| **Model Size (MB)**        | ~98 MB                        | ~14 MB                        |\n",
        "| **Inference Speed**        | Slower (heavier)              | Faster (lightweight)          |\n"
      ],
      "metadata": {
        "id": "h3fPqnfDAS5K"
      }
    },
    {
      "cell_type": "markdown",
      "source": [
        "**Justification of Selected Model:**\n",
        "\n",
        "ResNet50 was selected for this project due to its superior accuracy and proven performance on a variety of image classification tasks. While MobileNetV2 is faster and more lightweight, ResNet50 is more robust and suitable for our training setup since deployment constraints are not a priority.\n"
      ],
      "metadata": {
        "id": "Zx1wnQz9AP5t"
      }
    }
  ]
}